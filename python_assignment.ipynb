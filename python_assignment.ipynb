{
 "cells": [
  {
   "cell_type": "code",
   "execution_count": 1,
   "metadata": {
    "collapsed": false
   },
   "outputs": [
    {
     "name": "stdout",
     "output_type": "stream",
     "text": [
      "Enter a string:SowmyaPurnima\n",
      "Enter a substring:myap\n",
      "Substring present in main string\n"
     ]
    }
   ],
   "source": [
    "#2. Find substring in main string\n",
    "s=raw_input(\"Enter a string:\")\n",
    "s1=raw_input(\"Enter a substring:\")\n",
    "\n",
    "s_l=s.lower()\n",
    "s1_l=s1.lower()\n",
    "\n",
    "if s_l.find(\"s1_l\",0,len(s_l)):\n",
    "\tprint(\"Substring present in main string\")\n",
    "else:\n",
    "\tprint(\"substring not present in main string\")"
   ]
  },
  {
   "cell_type": "code",
   "execution_count": 2,
   "metadata": {
    "collapsed": false
   },
   "outputs": [
    {
     "name": "stdout",
     "output_type": "stream",
     "text": [
      "Enter a number:2\n",
      "The number is even\n"
     ]
    }
   ],
   "source": [
    "#3. Check number is even or odd\n",
    "a=input(\"Enter a number:\")\n",
    "if a % 2 == 0:\n",
    "\tprint(\"The number is even\")\n",
    "else:\n",
    "\tprint(\"The number is odd\")"
   ]
  },
  {
   "cell_type": "code",
   "execution_count": 3,
   "metadata": {
    "collapsed": false
   },
   "outputs": [
    {
     "name": "stdout",
     "output_type": "stream",
     "text": [
      "Enter a value:4\n",
      "x is not a prime number\n"
     ]
    }
   ],
   "source": [
    "#4. prime number or not\n",
    "x = input(\"Enter a value:\")\n",
    "for a in range(2,x):\n",
    "    if x % a==0 and a != x:\n",
    "        print(\"x is not a prime number\")\n",
    "        break              \n",
    "else:\n",
    "        print(\"x is a prime number\")"
   ]
  },
  {
   "cell_type": "code",
   "execution_count": 8,
   "metadata": {
    "collapsed": false
   },
   "outputs": [
    {
     "name": "stdout",
     "output_type": "stream",
     "text": [
      "Enter a string:sowmya\n",
      "The string doesnot have any digit\n"
     ]
    }
   ],
   "source": [
    "#5. string contains only digits or not\n",
    "s=raw_input(\"Enter a string:\")\n",
    "if s.isdigit():\n",
    "    print(\"The string has only digits\")\n",
    "else:\n",
    "    print(\"The string doesnot have any digit\")"
   ]
  },
  {
   "cell_type": "code",
   "execution_count": 9,
   "metadata": {
    "collapsed": false
   },
   "outputs": [
    {
     "name": "stdout",
     "output_type": "stream",
     "text": [
      "Enter a string:som12\n",
      "String contains alphabets and other characters\n"
     ]
    }
   ],
   "source": [
    "#6. Check whether a string contains only alphabets\n",
    "s=raw_input(\"Enter a string:\")\n",
    "if s.isalpha():\n",
    "\tprint(\"String contains only alphabets\")\n",
    "else:\n",
    "\tprint(\"String contains alphabets and other characters\")"
   ]
  },
  {
   "cell_type": "code",
   "execution_count": 10,
   "metadata": {
    "collapsed": true
   },
   "outputs": [],
   "source": [
    "#7. string has only special characters or not"
   ]
  },
  {
   "cell_type": "code",
   "execution_count": 11,
   "metadata": {
    "collapsed": false
   },
   "outputs": [
    {
     "name": "stdout",
     "output_type": "stream",
     "text": [
      "Enter a string:sow\n",
      "String doesnot contain capital letters\n"
     ]
    }
   ],
   "source": [
    "#8. string contains only capital letters\n",
    "s=raw_input(\"Enter a string:\")\n",
    "if s.isupper():\n",
    "\tprint(\"String contains only capital letters\")\n",
    "else:\n",
    "\tprint(\"String doesnot contain capital letters\")"
   ]
  },
  {
   "cell_type": "code",
   "execution_count": null,
   "metadata": {
    "collapsed": true
   },
   "outputs": [],
   "source": [
    "#9. string contains only small letters\n",
    "s=raw_input(\"Enter a string:\")\n",
    "if s.islower():\n",
    "\tprint(\"String contains only small letters\")\n",
    "else:\n",
    "\tprint(\"String doesnot contain small letters\")"
   ]
  },
  {
   "cell_type": "code",
   "execution_count": null,
   "metadata": {
    "collapsed": true
   },
   "outputs": [],
   "source": [
    "#10. User input for windows, linux etc"
   ]
  },
  {
   "cell_type": "code",
   "execution_count": null,
   "metadata": {
    "collapsed": true
   },
   "outputs": [],
   "source": [
    "#11. string contains atleast one digit or not\n",
    "s=raw_input(\"Enter a string\")\n",
    "for i in s:\n",
    "    if i.isdigit():\n",
    "        print(\"The string has digits\")\n",
    "        break\n",
    "else:\n",
    "    print(\"end of program\")"
   ]
  },
  {
   "cell_type": "code",
   "execution_count": null,
   "metadata": {
    "collapsed": true
   },
   "outputs": [],
   "source": [
    "#12. string contains only atleast one alphabet or not\n",
    "s=raw_input(\"Enter a string\")\n",
    "for i in s:\n",
    "    if i.isalpha():\n",
    "        print(\"The string has alphabets\")\n",
    "        break\n",
    "else:\n",
    "    print(\"End of program\")"
   ]
  },
  {
   "cell_type": "code",
   "execution_count": null,
   "metadata": {
    "collapsed": true
   },
   "outputs": [],
   "source": [
    "#13. string contains atleast one char"
   ]
  },
  {
   "cell_type": "code",
   "execution_count": 12,
   "metadata": {
    "collapsed": false
   },
   "outputs": [
    {
     "name": "stdout",
     "output_type": "stream",
     "text": [
      "Enter a string:fhnurf\n",
      "No upper case letters\n"
     ]
    }
   ],
   "source": [
    "#14. string has atleast one upper case letters\n",
    "s=raw_input(\"Enter a string:\")\n",
    "for i in s:\n",
    "    if i.isupper():\n",
    "        print(\"The string contains uppercase letters\")  \n",
    "        break\n",
    "else:\n",
    "    print(\"No upper case letters\")"
   ]
  },
  {
   "cell_type": "code",
   "execution_count": null,
   "metadata": {
    "collapsed": true
   },
   "outputs": [],
   "source": [
    "#15. string has atleast one lower case letters\n",
    "s=raw_input(\"Enter a string\")\n",
    "for i in s:\n",
    "    if i.islower():\n",
    "        print(\"The string contains lowercase letters\")\n",
    "        break\n",
    "else:        \n",
    "    print(\"End of program\")"
   ]
  },
  {
   "cell_type": "code",
   "execution_count": null,
   "metadata": {
    "collapsed": true
   },
   "outputs": [],
   "source": [
    "#16. number of buses required\n",
    "tot = 0\n",
    "extra_buses = 0\n",
    "buses = input(\"Enter number of buses\")\n",
    "people = input(\"Enter number of people\")\n",
    "seats = input(\"Enter the number of seats\")\n",
    "if (buses*seats) >= people:\n",
    "    print(\"Sufficient seats and buses\")\n",
    "else:\n",
    "    print(\"Insufficient number of buses for people\")\n",
    "    tot = people / seats\n",
    "    extra_buses = tot - buses\n",
    "print(\"Number of buses needed:%d\" %extra_buses)"
   ]
  },
  {
   "cell_type": "code",
   "execution_count": null,
   "metadata": {
    "collapsed": true
   },
   "outputs": [],
   "source": [
    "#17. print first 100 odd numbers\n",
    "i = 1\n",
    "count = 1\n",
    "while (count <= 100):\n",
    "    if (i%2 != 0):\n",
    "        print i\n",
    "        count = count + 1\n",
    "    i = i + 1"
   ]
  },
  {
   "cell_type": "code",
   "execution_count": null,
   "metadata": {
    "collapsed": true
   },
   "outputs": [],
   "source": [
    "#18. factors of a number\n",
    "x=input(\"Enter a value:\")\n",
    "for a in range (1,x+1):\n",
    "    if x % a == 0:\n",
    "        print a"
   ]
  },
  {
   "cell_type": "code",
   "execution_count": null,
   "metadata": {
    "collapsed": true
   },
   "outputs": [],
   "source": [
    "#19. number guessing game"
   ]
  },
  {
   "cell_type": "code",
   "execution_count": null,
   "metadata": {
    "collapsed": true
   },
   "outputs": [],
   "source": [
    "#20. check whether a is divisible by b\n",
    "a = input(\"Enter value1\")\n",
    "b = input(\"Enter value2\")\n",
    "if a % b == 0:\n",
    "    print \"a is divisible by b\"\n",
    "else:\n",
    "    print \"a is not divisible by b\""
   ]
  },
  {
   "cell_type": "code",
   "execution_count": null,
   "metadata": {
    "collapsed": true
   },
   "outputs": [],
   "source": [
    "# 21. check baby, toddler, child, teenager, adult, old based on age\n",
    "age = input(\"Enter a value\")\n",
    "if age <= 1:\n",
    "    print(\"He is a baby\")\n",
    "elif age > 1 and age <= 3:\n",
    "    print(\"He is a toddler\")\n",
    "elif age > 3 and age <= 12:\n",
    "    print(\"He is a child\")\n",
    "elif age > 12 and age <= 19:\n",
    "    print(\"He is a teenager\")\n",
    "elif age > 19 and age <= 60:\n",
    "    print(\"He is an adult\")\n",
    "elif age > 60:\n",
    "    print(\"He is old\")\n",
    "print(\"End of program\")"
   ]
  },
  {
   "cell_type": "code",
   "execution_count": null,
   "metadata": {
    "collapsed": true
   },
   "outputs": [],
   "source": [
    "#22. sum of all multiples of 3 or 5\n",
    "sum = 0\n",
    "for i in range (1,1000):\n",
    "    if i % 3 or i % 5:\n",
    "        sum = sum + i\n",
    "print sum"
   ]
  },
  {
   "cell_type": "code",
   "execution_count": null,
   "metadata": {
    "collapsed": true
   },
   "outputs": [],
   "source": [
    "#23. Biggest of two numbers\n",
    "a = input(\"Enter 1st value\")\n",
    "b = input(\"Enter 2nd value\")\n",
    "if a > b:\n",
    "    print \"a is larger than b\"\n",
    "else:\n",
    "    print \"b is larger than a\""
   ]
  },
  {
   "cell_type": "code",
   "execution_count": null,
   "metadata": {
    "collapsed": true
   },
   "outputs": [],
   "source": [
    "#24.Finding biggest number in given numbers\n",
    "l1 = [1,5,3,2,6,4]\n",
    "l1.sort()\n",
    "l1.pop()"
   ]
  },
  {
   "cell_type": "code",
   "execution_count": null,
   "metadata": {
    "collapsed": true
   },
   "outputs": [],
   "source": [
    "#25. 3rd occurance of a given substring"
   ]
  },
  {
   "cell_type": "code",
   "execution_count": null,
   "metadata": {
    "collapsed": true
   },
   "outputs": [],
   "source": [
    "#26. nth occurance of a given substring"
   ]
  },
  {
   "cell_type": "code",
   "execution_count": null,
   "metadata": {
    "collapsed": true
   },
   "outputs": [],
   "source": [
    "#27. min,max,sum,avg\n",
    "val = input(\"Enter some values:\")\n",
    "print \"minimum of values:%d\" %(min(val))\n",
    "print \"maximum of values:%d\" %(max(val))\n",
    "print \"Sum of values:%d\" %(sum(val))\n",
    "print \"Average of values:%f\" %(sum(val) / len(val))"
   ]
  },
  {
   "cell_type": "code",
   "execution_count": null,
   "metadata": {
    "collapsed": true
   },
   "outputs": [],
   "source": [
    "#28. Format to width\n",
    "num = raw_input(\"Enter a number:\")\n",
    "num1 = input(\"Enter the width:\")\n",
    "num = num.rjust(num1,'0')\n",
    "print \"Formatted output:%s\" %num"
   ]
  },
  {
   "cell_type": "code",
   "execution_count": null,
   "metadata": {
    "collapsed": true
   },
   "outputs": [],
   "source": [
    "#29. iterate thru employee names\n",
    "names = raw_input(\"Enter employee names:\")\n",
    "names1 = names.split(',')\n",
    "for i in names1:\n",
    "    print i"
   ]
  },
  {
   "cell_type": "code",
   "execution_count": null,
   "metadata": {
    "collapsed": true
   },
   "outputs": [],
   "source": [
    "#30. string functions"
   ]
  },
  {
   "cell_type": "code",
   "execution_count": null,
   "metadata": {
    "collapsed": true
   },
   "outputs": [],
   "source": [
    "#31. min, max, sum, avg"
   ]
  },
  {
   "cell_type": "code",
   "execution_count": null,
   "metadata": {
    "collapsed": true
   },
   "outputs": [],
   "source": [
    "#32. coverting given list to single dimension list\n",
    "lst = [10,20,30,[40,50,60],70,[80,90,20]]\n",
    "lst1 = lst.pop(3)\n",
    "lst2 = lst.pop(4)\n",
    "lst3 = lst+lst1+lst2\n",
    "print lst3"
   ]
  },
  {
   "cell_type": "code",
   "execution_count": 13,
   "metadata": {
    "collapsed": false
   },
   "outputs": [
    {
     "data": {
      "text/plain": [
       "{'e': 1, 'g': 2, 'l': 1, 'o': 2}"
      ]
     },
     "execution_count": 13,
     "metadata": {},
     "output_type": "execute_result"
    }
   ],
   "source": [
    "#33. count characters\n",
    "a=\"google\"\n",
    "{char:a.count(char) for char in a}"
   ]
  },
  {
   "cell_type": "code",
   "execution_count": null,
   "metadata": {
    "collapsed": true
   },
   "outputs": [],
   "source": [
    "#34. n dimension to single dimension"
   ]
  },
  {
   "cell_type": "code",
   "execution_count": null,
   "metadata": {
    "collapsed": true
   },
   "outputs": [],
   "source": [
    "#35. making a list as a string\n",
    "l=[1,2,3]\n",
    "\"\".join(map(str,l))"
   ]
  },
  {
   "cell_type": "code",
   "execution_count": null,
   "metadata": {
    "collapsed": true
   },
   "outputs": [],
   "source": [
    "#36. convert given list to single dimension\n",
    "lst = [1,2,3,[4,5,6],7,[8,9,10]]\n",
    "lst1 = lst.pop(3)\n",
    "lst2 = lst.pop(4)\n",
    "lst3 = lst+lst1+lst2\n",
    "print lst3"
   ]
  },
  {
   "cell_type": "code",
   "execution_count": null,
   "metadata": {
    "collapsed": true
   },
   "outputs": [],
   "source": [
    "#37. case insensitive and case sensitive search"
   ]
  },
  {
   "cell_type": "code",
   "execution_count": 15,
   "metadata": {
    "collapsed": false
   },
   "outputs": [
    {
     "name": "stdout",
     "output_type": "stream",
     "text": [
      "['a', 'A', 'b', 'B', 'c', 'C', 'd', 'D']\n"
     ]
    }
   ],
   "source": [
    "#38. sort the list\n",
    "l = ['a','A','b','B','d','D','c','C']\n",
    "l.sort(key=lambda x: x.upper())\n",
    "print l"
   ]
  },
  {
   "cell_type": "code",
   "execution_count": null,
   "metadata": {
    "collapsed": true
   },
   "outputs": [],
   "source": [
    "#39. largest block of repeated characters"
   ]
  },
  {
   "cell_type": "code",
   "execution_count": null,
   "metadata": {
    "collapsed": true
   },
   "outputs": [],
   "source": [
    "#40. list union and intesection\n",
    "l1 = [1,2,3,4]\n",
    "l2 = [2,3,5,6]\n",
    "l3= list(set(l1) & set(l2))\n",
    "l4 = list(set(l1) | set(l2))\n",
    "print \"intersection\", l3\n",
    "print \"union\", l4"
   ]
  },
  {
   "cell_type": "code",
   "execution_count": null,
   "metadata": {
    "collapsed": true
   },
   "outputs": [],
   "source": [
    "#41. fun(5)"
   ]
  },
  {
   "cell_type": "code",
   "execution_count": null,
   "metadata": {
    "collapsed": true
   },
   "outputs": [],
   "source": [
    "#42. fun('abc)"
   ]
  },
  {
   "cell_type": "code",
   "execution_count": null,
   "metadata": {
    "collapsed": true
   },
   "outputs": [],
   "source": [
    "#43. remove duplicates in list\n",
    "a=[1,2,3,2,3,4,1,3,4]\n",
    "l = list(set(a))\n",
    "print l"
   ]
  },
  {
   "cell_type": "code",
   "execution_count": null,
   "metadata": {
    "collapsed": true
   },
   "outputs": [],
   "source": [
    "#44. sum of values in list\n",
    "l = ['1','2','3']\n",
    "l1 = [int(i) for i in l]\n",
    "print l1\n",
    "sum = 0\n",
    "for j in l1:\n",
    "    sum = sum + j\n",
    "print sum"
   ]
  },
  {
   "cell_type": "code",
   "execution_count": null,
   "metadata": {
    "collapsed": true
   },
   "outputs": [],
   "source": [
    "#45. sum of 2 lists\n",
    "l1=[1,2,3,4]\n",
    "l2=[5,6,7,8]\n",
    "for i,j in zip(l1,l2):\n",
    "    print i+j"
   ]
  },
  {
   "cell_type": "code",
   "execution_count": null,
   "metadata": {
    "collapsed": true
   },
   "outputs": [],
   "source": [
    "#46. 3rd max value"
   ]
  },
  {
   "cell_type": "code",
   "execution_count": null,
   "metadata": {
    "collapsed": true
   },
   "outputs": [],
   "source": [
    "#47. input"
   ]
  },
  {
   "cell_type": "code",
   "execution_count": null,
   "metadata": {
    "collapsed": true
   },
   "outputs": [],
   "source": [
    "#48. input"
   ]
  },
  {
   "cell_type": "code",
   "execution_count": null,
   "metadata": {
    "collapsed": true
   },
   "outputs": [],
   "source": [
    "#49. even,odd \n",
    "inp = input(\"Enter some numbers:\")\n",
    "for i in inp:\n",
    "    if i % 2 == 0:\n",
    "        print \"even\" + ',',\n",
    "    else:\n",
    "        print \"odd\" + ',',"
   ]
  },
  {
   "cell_type": "code",
   "execution_count": null,
   "metadata": {
    "collapsed": true
   },
   "outputs": [],
   "source": [
    "#50. input"
   ]
  },
  {
   "cell_type": "code",
   "execution_count": null,
   "metadata": {
    "collapsed": true
   },
   "outputs": [],
   "source": [
    "#50. dictionary comprehension\n",
    "a=\"google\"\n",
    "{char:a.count(char) for char in a}"
   ]
  },
  {
   "cell_type": "code",
   "execution_count": null,
   "metadata": {
    "collapsed": true
   },
   "outputs": [],
   "source": [
    "#52 dictionary\n",
    "keys=['k1','k2']\n",
    "values = ['v1','v2']\n",
    "{key:value for key,value in zip(keys,values)}"
   ]
  },
  {
   "cell_type": "code",
   "execution_count": null,
   "metadata": {
    "collapsed": true
   },
   "outputs": [],
   "source": []
  }
 ],
 "metadata": {
  "kernelspec": {
   "display_name": "Python 2",
   "language": "python",
   "name": "python2"
  },
  "language_info": {
   "codemirror_mode": {
    "name": "ipython",
    "version": 2
   },
   "file_extension": ".py",
   "mimetype": "text/x-python",
   "name": "python",
   "nbconvert_exporter": "python",
   "pygments_lexer": "ipython2",
   "version": "2.7.12"
  }
 },
 "nbformat": 4,
 "nbformat_minor": 2
}
